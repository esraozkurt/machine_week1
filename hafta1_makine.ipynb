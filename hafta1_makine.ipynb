{
  "nbformat": 4,
  "nbformat_minor": 0,
  "metadata": {
    "colab": {
      "provenance": []
    },
    "kernelspec": {
      "name": "python3",
      "display_name": "Python 3"
    },
    "language_info": {
      "name": "python"
    }
  },
  "cells": [
    {
      "cell_type": "code",
      "execution_count": 3,
      "metadata": {
        "colab": {
          "base_uri": "https://localhost:8080/"
        },
        "id": "I6voYYzb2DX3",
        "outputId": "113b0ec0-1840-4231-de5c-d942e1358eec"
      },
      "outputs": [
        {
          "output_type": "stream",
          "name": "stdout",
          "text": [
            "Adınızı Girin : esra\n",
            "Merhaba esra\n"
          ]
        }
      ],
      "source": [
        "ad = input('Adınızı Girin : ') \n",
        "print(\"Merhaba \"+ ad)"
      ]
    },
    {
      "cell_type": "code",
      "source": [
        "sayi1 = input(\"Birinci Sayıyı Giriniz : \")\n",
        "sayi2 = input(\"İkinci Sayıyı Giriniz : \")\n",
        "toplam=float(sayi1)+float(sayi2)\n",
        "print(\"Sayıların Toplamı :{0} \".format(toplam))"
      ],
      "metadata": {
        "id": "B2niUrqu2noM"
      },
      "execution_count": null,
      "outputs": []
    },
    {
      "cell_type": "code",
      "source": [
        "vize = input(\"Vize Notunu Giriniz : \")\n",
        "final = input(\"Final Notunu Giriniz : \")\n",
        "ortalama= int(vize)*0.4 + int(final)*0.6\n",
        "print(\"Ders Notunuz :{0} \".format(ortalama))"
      ],
      "metadata": {
        "id": "u9uRldh12tAt"
      },
      "execution_count": null,
      "outputs": []
    }
  ]
}